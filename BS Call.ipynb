{
 "cells": [
  {
   "cell_type": "code",
   "execution_count": 1,
   "id": "61ae0770-89c2-4ff1-b8d9-e8f75017c4c9",
   "metadata": {},
   "outputs": [
    {
     "name": "stdout",
     "output_type": "stream",
     "text": [
      "6.779490734346545\n"
     ]
    }
   ],
   "source": [
    "import numpy as np\n",
    "from scipy . stats import norm\n",
    "\n",
    "def bs_call ( S_0 ,K ,T , sigma , r ) :\n",
    "    d_1 = ( np . log ( S_0 / K ) + T *( r + ( sigma **2) /2) ) /( sigma * np . sqrt ( T ) )\n",
    "    d_2 = d_1 - sigma * np . sqrt ( T )\n",
    "    return S_0 * norm . cdf ( d_1 ) - K * np . exp ( - r * T ) * norm . cdf ( d_2 )\n",
    "\n",
    "print ( bs_call ( S_0 = 100 , K = 105 , T = 0.5 , sigma = 0.3 , r = 0.02) )\n"
   ]
  },
  {
   "cell_type": "code",
   "execution_count": null,
   "id": "e770ea44-bce9-4af6-a234-5a4f88b7d4de",
   "metadata": {},
   "outputs": [],
   "source": []
  }
 ],
 "metadata": {
  "kernelspec": {
   "display_name": "Python 3 (ipykernel)",
   "language": "python",
   "name": "python3"
  },
  "language_info": {
   "codemirror_mode": {
    "name": "ipython",
    "version": 3
   },
   "file_extension": ".py",
   "mimetype": "text/x-python",
   "name": "python",
   "nbconvert_exporter": "python",
   "pygments_lexer": "ipython3",
   "version": "3.9.7"
  }
 },
 "nbformat": 4,
 "nbformat_minor": 5
}
