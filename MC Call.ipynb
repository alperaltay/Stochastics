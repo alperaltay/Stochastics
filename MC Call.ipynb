{
 "cells": [
  {
   "cell_type": "code",
   "execution_count": 3,
   "id": "82b98d62-9c4a-4e2f-95b3-b7752db82e84",
   "metadata": {},
   "outputs": [
    {
     "name": "stdout",
     "output_type": "stream",
     "text": [
      "9.962149616540291\n",
      "[-1.55209353  0.48944459 -1.68502677 ...  0.47662241 -0.84671031\n",
      " -0.66074836]\n",
      "[-0.21530037  0.02749365 -0.76558898 ...  1.19248029  0.35201878\n",
      "  0.79447631]\n",
      "5.684341886080802e-19\n",
      "9.947598300641402e-19\n",
      "1.0005791070275307\n",
      "0.9994205574131387\n"
     ]
    }
   ],
   "source": [
    "import math\n",
    "import numpy as np\n",
    "import numpy.random as npr\n",
    "from pylab import plt, mpl\n",
    "\n",
    "sn = np.zeros(())\n",
    "def gen_sn(M, I,anti_paths=False, mo_match=False):\n",
    "    \n",
    "    if anti_paths is True:\n",
    "        sn = npr.standard_normal((M + 1, int(I / 2)))\n",
    "        sn = np.concatenate((sn, -sn), axis=1)\n",
    "    else:\n",
    "        sn = npr.standard_normal((M + 1, I))\n",
    "    if mo_match is True:\n",
    "        sn = (sn - sn.mean()) / sn.std()   #standardizes the random numbers.\n",
    "    return sn\n",
    "\n",
    "I = 50000\n",
    "S0 = 100\n",
    "r = 0.05\n",
    "sigma = 0.25\n",
    "T = 1.0\n",
    "M = 1\n",
    "\n",
    "sn = gen_sn(1, I, anti_paths=True, mo_match=True)\n",
    "\n",
    "def gbm_mcs_stat(K):\n",
    "    \n",
    "    # simulate index level at maturity\n",
    "    ST = S0 * np.exp((r - 0.5 * sigma ** 2) * T \n",
    "                     + sigma * math.sqrt(T) * sn[1])\n",
    "    # calculate payoff at maturity\n",
    "    hT = np.maximum(ST - K, 0)\n",
    "    # calculate MCS estimator\n",
    "    C0 = math.exp(-r * T) * np.mean(hT)\n",
    "    return C0\n",
    "\n",
    "print(gbm_mcs_stat(K=105))\n",
    "print(sn[0])\n",
    "print(sn[1])\n",
    "print(sn[0].mean())\n",
    "print(sn[1].mean())\n",
    "print(sn[0].std())\n",
    "print(sn[1].std())"
   ]
  },
  {
   "cell_type": "code",
   "execution_count": null,
   "id": "d1f4e7ca-287b-4188-b0c6-7b3d049d2945",
   "metadata": {},
   "outputs": [],
   "source": []
  },
  {
   "cell_type": "code",
   "execution_count": null,
   "id": "3911aa1c-a065-46c7-8e97-1fa2f154d808",
   "metadata": {},
   "outputs": [],
   "source": []
  },
  {
   "cell_type": "code",
   "execution_count": null,
   "id": "54678c5e-6ac1-4b18-91d5-6ccef2be7ae6",
   "metadata": {},
   "outputs": [],
   "source": []
  },
  {
   "cell_type": "code",
   "execution_count": null,
   "id": "c9b5fd85-fce0-49db-9cea-9df4fe66a24a",
   "metadata": {},
   "outputs": [],
   "source": []
  },
  {
   "cell_type": "code",
   "execution_count": null,
   "id": "bd921667-80f9-49ec-b589-8a80734c4afd",
   "metadata": {},
   "outputs": [],
   "source": []
  }
 ],
 "metadata": {
  "kernelspec": {
   "display_name": "Python 3 (ipykernel)",
   "language": "python",
   "name": "python3"
  },
  "language_info": {
   "codemirror_mode": {
    "name": "ipython",
    "version": 3
   },
   "file_extension": ".py",
   "mimetype": "text/x-python",
   "name": "python",
   "nbconvert_exporter": "python",
   "pygments_lexer": "ipython3",
   "version": "3.9.7"
  }
 },
 "nbformat": 4,
 "nbformat_minor": 5
}
